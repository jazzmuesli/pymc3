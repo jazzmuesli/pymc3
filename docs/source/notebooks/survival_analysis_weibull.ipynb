{
 "cells": [
  {
   "cell_type": "markdown",
   "metadata": {},
   "source": [
    "## Weibull AFT"
   ]
  },
  {
   "cell_type": "code",
   "execution_count": 36,
   "metadata": {},
   "outputs": [],
   "source": [
    "%matplotlib inline"
   ]
  },
  {
   "cell_type": "code",
   "execution_count": 1,
   "metadata": {},
   "outputs": [
    {
     "name": "stderr",
     "output_type": "stream",
     "text": [
      "/home/preich/anaconda3/lib/python3.6/site-packages/h5py/__init__.py:36: FutureWarning: Conversion of the second argument of issubdtype from `float` to `np.floating` is deprecated. In future, it will be treated as `np.float64 == np.dtype(float).type`.\n",
      "  from ._conv import register_converters as _register_converters\n"
     ]
    }
   ],
   "source": [
    "import numpy as np\n",
    "import pymc3 as pm\n",
    "from pymc3.distributions.timeseries import GaussianRandomWalk\n",
    "import seaborn as sns\n",
    "import pandas as pd\n",
    "from theano import tensor as T\n",
    "import theano.tensor as tt\n",
    "import statsmodels\n",
    "import patsy\n",
    "import pystan\n",
    "import matplotlib.pylab as plt"
   ]
  },
  {
   "cell_type": "code",
   "execution_count": 2,
   "metadata": {},
   "outputs": [],
   "source": [
    "dataset = statsmodels.datasets.get_rdataset(package='survival', dataname='flchain' )\n",
    "d = dataset.data.query('futime > 7').sample(500)\n",
    "d.reset_index(level=0, inplace=True)\n",
    "d.rename(columns={'futime': 't', 'death': 'event'}, inplace=True)"
   ]
  },
  {
   "cell_type": "code",
   "execution_count": 3,
   "metadata": {},
   "outputs": [
    {
     "data": {
      "text/html": [
       "<div>\n",
       "<style scoped>\n",
       "    .dataframe tbody tr th:only-of-type {\n",
       "        vertical-align: middle;\n",
       "    }\n",
       "\n",
       "    .dataframe tbody tr th {\n",
       "        vertical-align: top;\n",
       "    }\n",
       "\n",
       "    .dataframe thead th {\n",
       "        text-align: right;\n",
       "    }\n",
       "</style>\n",
       "<table border=\"1\" class=\"dataframe\">\n",
       "  <thead>\n",
       "    <tr style=\"text-align: right;\">\n",
       "      <th></th>\n",
       "      <th>index</th>\n",
       "      <th>age</th>\n",
       "      <th>sex</th>\n",
       "      <th>sample.yr</th>\n",
       "      <th>kappa</th>\n",
       "      <th>lambda</th>\n",
       "      <th>flc.grp</th>\n",
       "      <th>creatinine</th>\n",
       "      <th>mgus</th>\n",
       "      <th>t</th>\n",
       "      <th>event</th>\n",
       "      <th>chapter</th>\n",
       "    </tr>\n",
       "  </thead>\n",
       "  <tbody>\n",
       "    <tr>\n",
       "      <th>0</th>\n",
       "      <td>3542</td>\n",
       "      <td>61</td>\n",
       "      <td>M</td>\n",
       "      <td>1997</td>\n",
       "      <td>1.690</td>\n",
       "      <td>1.69</td>\n",
       "      <td>8</td>\n",
       "      <td>1.1</td>\n",
       "      <td>0</td>\n",
       "      <td>4526</td>\n",
       "      <td>0</td>\n",
       "      <td>NaN</td>\n",
       "    </tr>\n",
       "    <tr>\n",
       "      <th>1</th>\n",
       "      <td>4770</td>\n",
       "      <td>57</td>\n",
       "      <td>F</td>\n",
       "      <td>1998</td>\n",
       "      <td>1.260</td>\n",
       "      <td>1.17</td>\n",
       "      <td>4</td>\n",
       "      <td>0.9</td>\n",
       "      <td>0</td>\n",
       "      <td>4089</td>\n",
       "      <td>0</td>\n",
       "      <td>NaN</td>\n",
       "    </tr>\n",
       "    <tr>\n",
       "      <th>2</th>\n",
       "      <td>3374</td>\n",
       "      <td>66</td>\n",
       "      <td>F</td>\n",
       "      <td>1996</td>\n",
       "      <td>1.010</td>\n",
       "      <td>1.34</td>\n",
       "      <td>4</td>\n",
       "      <td>0.8</td>\n",
       "      <td>0</td>\n",
       "      <td>2615</td>\n",
       "      <td>1</td>\n",
       "      <td>Digestive</td>\n",
       "    </tr>\n",
       "    <tr>\n",
       "      <th>3</th>\n",
       "      <td>7867</td>\n",
       "      <td>53</td>\n",
       "      <td>F</td>\n",
       "      <td>1997</td>\n",
       "      <td>0.705</td>\n",
       "      <td>1.25</td>\n",
       "      <td>2</td>\n",
       "      <td>0.8</td>\n",
       "      <td>0</td>\n",
       "      <td>4547</td>\n",
       "      <td>0</td>\n",
       "      <td>NaN</td>\n",
       "    </tr>\n",
       "    <tr>\n",
       "      <th>4</th>\n",
       "      <td>7674</td>\n",
       "      <td>50</td>\n",
       "      <td>F</td>\n",
       "      <td>1996</td>\n",
       "      <td>0.793</td>\n",
       "      <td>1.20</td>\n",
       "      <td>2</td>\n",
       "      <td>0.8</td>\n",
       "      <td>0</td>\n",
       "      <td>4761</td>\n",
       "      <td>0</td>\n",
       "      <td>NaN</td>\n",
       "    </tr>\n",
       "  </tbody>\n",
       "</table>\n",
       "</div>"
      ],
      "text/plain": [
       "   index  age sex  sample.yr  kappa  lambda  flc.grp  creatinine  mgus     t  \\\n",
       "0   3542   61   M       1997  1.690    1.69        8         1.1     0  4526   \n",
       "1   4770   57   F       1998  1.260    1.17        4         0.9     0  4089   \n",
       "2   3374   66   F       1996  1.010    1.34        4         0.8     0  2615   \n",
       "3   7867   53   F       1997  0.705    1.25        2         0.8     0  4547   \n",
       "4   7674   50   F       1996  0.793    1.20        2         0.8     0  4761   \n",
       "\n",
       "   event    chapter  \n",
       "0      0        NaN  \n",
       "1      0        NaN  \n",
       "2      1  Digestive  \n",
       "3      0        NaN  \n",
       "4      0        NaN  "
      ]
     },
     "execution_count": 3,
     "metadata": {},
     "output_type": "execute_result"
    }
   ],
   "source": [
    "y, x_df = patsy.dmatrices(\"event ~ age + sex\", d, return_type='dataframe')\n",
    "x_df = x_df.iloc[:, x_df.columns != 'Intercept']\n",
    "\n",
    "N, M = x_df.shape\n",
    "x = x_df.as_matrix()\n",
    "y = d['t'].values\n",
    "event = d['event'].values.astype(int)\n",
    "d.head()"
   ]
  },
  {
   "cell_type": "code",
   "execution_count": null,
   "metadata": {},
   "outputs": [],
   "source": [
    "sd_mu = 10.0\n",
    "sd_al = 10.0\n",
    "\n",
    "\n",
    "def weibull_lccdf(value, alpha, beta):\n",
    "    return - (value / beta)**alpha\n",
    "\n",
    "\n",
    "with pm.Model() as weibull:\n",
    "    beta_raw = pm.Normal('b0', mu=0., sd=1., shape=M)\n",
    "    alpha_raw = pm.Normal('a0', mu=0., sd=.1)\n",
    "    mu = pm.Normal('mu', mu=0., sd=sd_mu)\n",
    "\n",
    "    tau_s_raw = pm.HalfNormal('tau_s_raw', 10.)\n",
    "    tau_raw = pm.ChiSquared('tau_raw', 1., shape=M)\n",
    "    beta = pm.Deterministic('beta', tau_s_raw * tt.sqrt(1. / tau_raw) * beta_raw)\n",
    "\n",
    "    alpha = pm.Deterministic('alpha', tt.exp(sd_al * alpha_raw))\n",
    "\n",
    "    lp = mu + tt.dot(x, beta)\n",
    "\n",
    "    y1 = pm.Weibull('y1', alpha, tt.exp(-(lp[event == 1]) / alpha), observed=y[event == 1])\n",
    "    y0 = pm.Potential('y0', weibull_lccdf(y[event == 0], alpha, tt.exp(-(lp[event == 0]) / alpha)))"
   ]
  },
  {
   "cell_type": "code",
   "execution_count": null,
   "metadata": {},
   "outputs": [
    {
     "name": "stderr",
     "output_type": "stream",
     "text": [
      "Auto-assigning NUTS sampler...\n",
      "INFO:pymc3:Auto-assigning NUTS sampler...\n",
      "Initializing NUTS using adapt_diag...\n",
      "INFO:pymc3:Initializing NUTS using adapt_diag...\n",
      "Multiprocess sampling (4 chains in 4 jobs)\n",
      "INFO:pymc3:Multiprocess sampling (4 chains in 4 jobs)\n",
      "NUTS: [tau_raw_log__, tau_s_raw_log__, mu, a0, b0]\n",
      "INFO:pymc3:NUTS: [tau_raw_log__, tau_s_raw_log__, mu, a0, b0]\n",
      "  0%|          | 0/2000 [00:00<?, ?it/s]"
     ]
    }
   ],
   "source": [
    "with weibull:\n",
    "    trace = pm.sample(1000, tune=1000, init='adapt_diag',threads=1)"
   ]
  },
  {
   "cell_type": "code",
   "execution_count": null,
   "metadata": {},
   "outputs": [],
   "source": [
    "pm.traceplot(trace, \n",
    "             varnames=['mu','alpha', 'beta'], \n",
    "             lines=dict(mu=mu_stan, alpha=alpha_stan, beta=beta_stan));"
   ]
  },
  {
   "cell_type": "code",
   "execution_count": null,
   "metadata": {},
   "outputs": [],
   "source": [
    "time = np.asarray([59, 115, 156, 421, 431, 448, 464, 475, 477, 563, 638, 744,\n",
    "                   769, 770, 803, 855, 1040, 1106, 1129, 1206, 1227, 268, 329, 353, 365, 377], dtype=np.float64)\n",
    "event = np.asarray([1, 1, 1, 0, 1, 0, 1, 1, 0, 1, 1, 0, 0,\n",
    "                    0, 0, 0, 0, 0, 0, 0, 0, 1, 1, 1, 1, 0])"
   ]
  },
  {
   "cell_type": "code",
   "execution_count": null,
   "metadata": {},
   "outputs": [],
   "source": [
    "sd_mu = 100.0\n",
    "sd_al = 10.0\n",
    "\n",
    "\n",
    "def weibull_lccdf(value, alpha, beta):\n",
    "    return - (value / beta)**alpha\n",
    "\n",
    "\n",
    "with pm.Model() as weibull:\n",
    "    alpha_raw = pm.Normal('a0', mu=0., sd=.1)\n",
    "    mu = pm.Normal('mu', mu=0., sd=sd_mu)\n",
    "\n",
    "    alpha = pm.Deterministic('alpha', tt.exp(sd_al * alpha_raw))\n",
    "    beta = pm.Deterministic('beta', tt.exp(mu / alpha))\n",
    "    y1 = pm.Weibull(\n",
    "        'y1', alpha, beta, observed=time[event == 1])\n",
    "    y0 = pm.Potential(\n",
    "        'y0', weibull_lccdf(time[event == 0], alpha, beta))\n",
    "    \n",
    "    trace = pm.sample(1000, tune=1000, init='adapt_diag')"
   ]
  },
  {
   "cell_type": "code",
   "execution_count": null,
   "metadata": {},
   "outputs": [],
   "source": [
    "pm.traceplot(trace)"
   ]
  },
  {
   "cell_type": "code",
   "execution_count": null,
   "metadata": {},
   "outputs": [],
   "source": [
    "df = pm.summary(trace)\n",
    "df"
   ]
  },
  {
   "cell_type": "code",
   "execution_count": null,
   "metadata": {},
   "outputs": [],
   "source": [
    "with pm.Model() as m:\n",
    "    alpha = pm.Normal('alpha', 0., 10.)\n",
    "    r = pm.Gamma('r', 1., .001, testval=.25)\n",
    "    beta = pm.Deterministic('beta', tt.exp(-alpha / r))\n",
    "    y1 = pm.Weibull(\n",
    "        'y1', r, beta, observed=time[event == 1])\n",
    "    y0 = pm.Bernoulli(\n",
    "        'y0', tt.exp(-tt.pow(time[event == 0] / beta, r)),\n",
    "         observed=np.ones(np.sum(event == 0)))\n",
    "#     y0 = pm.Potential(\n",
    "#         'y0', weibull_lccdf(time[event == 0], r, beta))\n"
   ]
  },
  {
   "cell_type": "code",
   "execution_count": null,
   "metadata": {},
   "outputs": [],
   "source": [
    "for var in m.basic_RVs:\n",
    "    print(var.name, var.logp(m.test_point))"
   ]
  },
  {
   "cell_type": "code",
   "execution_count": null,
   "metadata": {},
   "outputs": [],
   "source": [
    "with m:\n",
    "    tr = pm.sample(1000, tune=1000, init='adapt_diag')"
   ]
  },
  {
   "cell_type": "code",
   "execution_count": null,
   "metadata": {},
   "outputs": [],
   "source": [
    "pm.traceplot(tr)"
   ]
  },
  {
   "cell_type": "code",
   "execution_count": null,
   "metadata": {},
   "outputs": [],
   "source": [
    "pm.summary(tr)"
   ]
  },
  {
   "cell_type": "code",
   "execution_count": null,
   "metadata": {},
   "outputs": [],
   "source": [
    "logtime = np.log(time)\n",
    "\n",
    "def gumbel_sf(y, mu, sigma):\n",
    "    return 1.0 - tt.exp(-tt.exp(-(y - mu) / sigma))\n",
    "\n",
    "\n",
    "# Build Bayesian model\n",
    "with pm.Model() as model:\n",
    "    # Hyperprior\n",
    "    s = pm.HalfNormal(\"s\", tau=5.0)\n",
    "\n",
    "    # Priors\n",
    "    gamma = pm.Normal(\"gamma\", 0., 5.0)\n",
    "\n",
    "    # Likelihood for uncensored and censored survival times\n",
    "    y_obs = pm.Gumbel(\"y_obs\", mu=gamma, beta=s, observed=logtime[event == 1])\n",
    "    y_cens = pm.Bernoulli(\"y_cens\", p=gumbel_sf(\n",
    "        logtime[event == 0], mu=gamma, sigma=s), observed=np.ones(np.sum(event == 0)))\n",
    "\n",
    "    trace = pm.sample(1000, tune=1000, init='adapt_diag')"
   ]
  },
  {
   "cell_type": "code",
   "execution_count": null,
   "metadata": {},
   "outputs": [],
   "source": [
    "pm.traceplot(trace);"
   ]
  },
  {
   "cell_type": "code",
   "execution_count": null,
   "metadata": {},
   "outputs": [],
   "source": [
    "df = pm.summary(trace)\n",
    "df"
   ]
  }
 ],
 "metadata": {
  "kernelspec": {
   "display_name": "Python 3",
   "language": "python",
   "name": "python3"
  },
  "language_info": {
   "codemirror_mode": {
    "name": "ipython",
    "version": 3
   },
   "file_extension": ".py",
   "mimetype": "text/x-python",
   "name": "python",
   "nbconvert_exporter": "python",
   "pygments_lexer": "ipython3",
   "version": "3.6.4"
  }
 },
 "nbformat": 4,
 "nbformat_minor": 2
}
